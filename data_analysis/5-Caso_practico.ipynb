{
 "cells": [
  {
   "cell_type": "markdown",
   "id": "77297774",
   "metadata": {},
   "source": [
    "# Caso práctico"
   ]
  },
  {
   "cell_type": "markdown",
   "id": "9208f3e6",
   "metadata": {},
   "source": [
    "El objetivo de este documento es recordar y consolidar los aprendido durante la formación de Jupyter.\n",
    "\n",
    "Las librerías y funciones se pueden cargar cuando se considere oportuno, aunque se recomienda hacerlo en cada apartado para tener claro qué se usa en cada caso.\n"
   ]
  },
  {
   "cell_type": "markdown",
   "id": "03fdd65f",
   "metadata": {},
   "source": [
    "## 1. Lectura de datos en S3 usando boto 3"
   ]
  },
  {
   "cell_type": "markdown",
   "id": "1ee08a6a",
   "metadata": {},
   "source": [
    "Leer el fichero que se encuentra en **s3a://data/data.parquet** y convertir a pandas dataframe"
   ]
  },
  {
   "cell_type": "code",
   "execution_count": null,
   "id": "2716460f",
   "metadata": {},
   "outputs": [],
   "source": []
  },
  {
   "cell_type": "markdown",
   "id": "586bac07",
   "metadata": {},
   "source": [
    "# Estudio previo y limpieza"
   ]
  },
  {
   "cell_type": "markdown",
   "id": "978cae43",
   "metadata": {},
   "source": [
    "## 2. Análisis previo del dataframe"
   ]
  },
  {
   "cell_type": "markdown",
   "id": "c0a23858",
   "metadata": {},
   "source": [
    "Imprimir número de filas y columnas, tipos de campos, etc."
   ]
  },
  {
   "cell_type": "code",
   "execution_count": null,
   "id": "0d32783b",
   "metadata": {},
   "outputs": [],
   "source": []
  },
  {
   "cell_type": "markdown",
   "id": "938ff1c4",
   "metadata": {},
   "source": [
    "## 3. Eliminar columnas"
   ]
  },
  {
   "cell_type": "markdown",
   "id": "924db4a6",
   "metadata": {},
   "source": [
    "Eliminar las columnas **['SUP_TERRASSA', 'EPP_DGC']** del dataframe. Leer https://pandas.pydata.org/docs/reference/api/pandas.DataFrame.drop.html para más información.\n",
    "\n",
    "Imprime el nombre de las columnas existentes para verificar que se ha aplicado el cambio."
   ]
  },
  {
   "cell_type": "code",
   "execution_count": null,
   "id": "10100b01",
   "metadata": {},
   "outputs": [],
   "source": []
  },
  {
   "cell_type": "markdown",
   "id": "9c3d16e8",
   "metadata": {},
   "source": [
    "## 4. Renombrar columnas"
   ]
  },
  {
   "cell_type": "markdown",
   "id": "a3a39471",
   "metadata": {},
   "source": [
    "Renombrar las columnas **['NLOCAL', 'NCARREC']** por **['N_LOCAL', 'N_CARREC']**. Revisar https://pandas.pydata.org/docs/reference/api/pandas.DataFrame.rename.html para más información.\n",
    "\n",
    "Imprime el nombre de las columnas existentes para verificar que se ha aplicado el cambio"
   ]
  },
  {
   "cell_type": "code",
   "execution_count": null,
   "id": "2dcdd708",
   "metadata": {},
   "outputs": [],
   "source": []
  },
  {
   "cell_type": "markdown",
   "id": "bd1c4dfb",
   "metadata": {},
   "source": [
    "## 5. Normalización"
   ]
  },
  {
   "cell_type": "markdown",
   "id": "066eee9e",
   "metadata": {},
   "source": [
    "Sustituir los valores **['N', 'S']** de la variable 'LOCAL_INTERIOR' por **[False, True]**.\n",
    "\n",
    "Imprimir los valores únicos de la variable para verificar el cambio."
   ]
  },
  {
   "cell_type": "code",
   "execution_count": null,
   "id": "48ee9b6a",
   "metadata": {},
   "outputs": [],
   "source": []
  },
  {
   "cell_type": "markdown",
   "id": "34a2e47e",
   "metadata": {},
   "source": [
    "## 6. Gráficas exploratorias"
   ]
  },
  {
   "cell_type": "markdown",
   "id": "5c455fbb",
   "metadata": {},
   "source": [
    "Realizar gráficas exploratorias de los datos. Como mínimo un **gráfico circular de la variable 'TIPUS_VALOR'** y un **diagrama de barras de la variable 'CATEGORIA'**, puedes usar la función bar() de pyplot https://matplotlib.org/stable/api/_as_gen/matplotlib.pyplot.bar.html"
   ]
  },
  {
   "cell_type": "code",
   "execution_count": null,
   "id": "61624c26",
   "metadata": {},
   "outputs": [],
   "source": []
  },
  {
   "cell_type": "markdown",
   "id": "610af646",
   "metadata": {},
   "source": [
    "## 7. Lectura de Trino"
   ]
  },
  {
   "cell_type": "markdown",
   "id": "78e94f38",
   "metadata": {},
   "source": [
    "Lee la tabla **hive.staging.territori_segimon3_hdfs** usando Trino.\n",
    "\n",
    "Imprime las primeras filas del dataframe para validar el resultado."
   ]
  },
  {
   "cell_type": "code",
   "execution_count": null,
   "id": "1278e5e6",
   "metadata": {},
   "outputs": [],
   "source": []
  },
  {
   "cell_type": "markdown",
   "id": "554f56f9",
   "metadata": {},
   "source": [
    "# Ejecicios avanzados"
   ]
  },
  {
   "cell_type": "markdown",
   "id": "6e5173b9",
   "metadata": {},
   "source": [
    "## 8. Join de dataframes"
   ]
  },
  {
   "cell_type": "markdown",
   "id": "a5c13d00",
   "metadata": {},
   "source": [
    "Hacer un left_join de la tabla de **segimon** con los datos de **locals** por el campo solar. Revisa la función padas.merge() https://pandas.pydata.org/docs/reference/api/pandas.DataFrame.merge.html.\n",
    "\n",
    "Otras funciones interesantes en https://pandas.pydata.org/docs/user_guide/merging.html"
   ]
  },
  {
   "cell_type": "code",
   "execution_count": null,
   "id": "2abf05e5",
   "metadata": {},
   "outputs": [],
   "source": []
  },
  {
   "cell_type": "markdown",
   "id": "ff7fa842",
   "metadata": {},
   "source": [
    "## 9. Mapa"
   ]
  },
  {
   "cell_type": "markdown",
   "id": "e59fa367",
   "metadata": {},
   "source": [
    "Te atreverías a en un mapa la localización de los 10 primero locales del dataframe generado en el apartado anterior. Puedes usar las variables **latitud_wgs84** y **longitud_wgs84**."
   ]
  },
  {
   "cell_type": "code",
   "execution_count": null,
   "id": "152528c1",
   "metadata": {},
   "outputs": [],
   "source": []
  },
  {
   "cell_type": "markdown",
   "id": "a35199d3",
   "metadata": {},
   "source": [
    "# Fin de la práctica"
   ]
  },
  {
   "cell_type": "markdown",
   "id": "da797129",
   "metadata": {},
   "source": [
    "Si has llegado hasta aquí significa que ya manejas muy bien Python!! Ahora puedes descargar el notebook y presumir de tus resultados ;)\n",
    "\n",
    "<img src=\"https://cdn-icons-png.flaticon.com/512/5625/5625810.png\" alt=\"Alt text\" width=\"100\">\n"
   ]
  }
 ],
 "metadata": {
  "kernelspec": {
   "display_name": "Python 3",
   "language": "python",
   "name": "python3"
  },
  "language_info": {
   "codemirror_mode": {
    "name": "ipython",
    "version": 3
   },
   "file_extension": ".py",
   "mimetype": "text/x-python",
   "name": "python",
   "nbconvert_exporter": "python",
   "pygments_lexer": "ipython3",
   "version": "3.9.4"
  }
 },
 "nbformat": 4,
 "nbformat_minor": 5
}
